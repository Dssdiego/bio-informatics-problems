{
 "cells": [
  {
   "cell_type": "code",
   "execution_count": 7,
   "metadata": {},
   "outputs": [],
   "source": [
    "string = \"myKmsaLbSFchi86tQnAfSHEnhudraSy4noqTTwSeWVgRMafFqcSXof1CM3RfxrrbdWV0ymhm41rkIglIdazjrMg1BEnT9t0r36POEDuo1h6AcR4GYyQbrandtiiiSURkkghvN7u1ifMsQDrrehoQCuqzjJWbMD9TlEWV..\""
   ]
  },
  {
   "cell_type": "code",
   "execution_count": 8,
   "metadata": {},
   "outputs": [],
   "source": [
    "nums = \"22 28 115 122\"\n",
    "nums = nums.split(\" \")\n",
    "a = int(nums[0])\n",
    "b = int(nums[1])\n",
    "c = int(nums[2])\n",
    "d = int(nums[3])"
   ]
  },
  {
   "cell_type": "code",
   "execution_count": 9,
   "metadata": {},
   "outputs": [
    {
     "data": {
      "text/plain": [
       "'Enhudra brandtii'"
      ]
     },
     "execution_count": 9,
     "metadata": {},
     "output_type": "execute_result"
    }
   ],
   "source": [
    "string[a:b+1] + \" \" + string[c:d+1]"
   ]
  }
 ],
 "metadata": {
  "kernelspec": {
   "display_name": "Python 2",
   "language": "python",
   "name": "python2"
  },
  "language_info": {
   "codemirror_mode": {
    "name": "ipython",
    "version": 2
   },
   "file_extension": ".py",
   "mimetype": "text/x-python",
   "name": "python",
   "nbconvert_exporter": "python",
   "pygments_lexer": "ipython2",
   "version": "2.7.15"
  }
 },
 "nbformat": 4,
 "nbformat_minor": 2
}
