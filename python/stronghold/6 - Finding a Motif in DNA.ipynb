{
 "cells": [
  {
   "cell_type": "markdown",
   "metadata": {},
   "source": [
    "# Finding a Motif in DNA\n",
    "\n",
    "## Problem\n",
    "\n",
    "Given two strings s and t, t is a substring of s if t is contained as a contiguous collection of symbols in s (as a result, t must be no longer than s).\n",
    "\n",
    "The position of a symbol in a string is the total number of symbols found to its left, including itself (e.g., the positions of all occurrences of 'U' in \"AUGCUUCAGAAAGGUCUUACG\" are 2, 5, 6, 15, 17, and 18). The symbol at position i of s is denoted by s[i]\n",
    "\n",
    "A substring of s can be represented as s[j:k], where j and k represent the starting and ending positions of the substring in s; for example, if s = \"AUGCUUCAGAAAGGUCUUACG\", then s[2:5] = \"UGCU\".\n",
    "\n",
    "The location of a substring s[j:k] is its beginning position j; note that t will have multiple locations in s if it occurs more than once as a substring of s (see the Sample below).\n",
    "\n",
    "**Given:** Two DNA strings s and t (each of length at most 1 kbp).\n",
    "\n",
    "**Return:** All locations of t as a substring of s.\n",
    "\n",
    "#### Sample Dataset\n",
    "\n",
    "> GATATATGCATATACTT\n",
    "> ATAT\n",
    "\n",
    "#### Sample Output\n",
    "\n",
    "> 2 4 10"
   ]
  },
  {
   "cell_type": "code",
   "execution_count": 207,
   "metadata": {},
   "outputs": [
    {
     "name": "stdout",
     "output_type": "stream",
     "text": [
      "81 98 105 134 350 395 402 425 458 627 645 683 769 840 863 \n"
     ]
    }
   ],
   "source": [
    "# Solution \n",
    "\n",
    "s = 'GAGGGTGTAAACCCCGCTCGAGAGTGTAAATCGTGTAAAACAGTGTGTAAACGTGTAAACCGTGTAAATGGTGTAAAACGGTGTAAAGTGTAAAATTGTGTAAAGTGTAAAGTGTAAAGACCTCGTGTAAAGGGTGTAAAGTGTAAAGGTGTAAAGCGTGTGTGTAAACGTGTAAACGTGTAAATGGTGTAAAATATTACGGTGTAAACGGCCCGCACGGTGTAAAAGGTGTAAACTGCGAGGCCTGTGTAAAGCGTGTAAAATGTAGTCCGTACGTGTGTAAAGAAGTGTAAACGTGTAAACAGTGTAAACATGCTAACGTGTAAAAAGTGTAAATGTGTGTAAACCCGTGTAAAGTGTAAACGAGTGTAAATCTGTGTAAAGGTGTGTAAAAGTGTAAAGTGTAAAGTGTAAAGGTGTAAAAGTGTAAAGTCTAGTGTAAATCATAAATCATAGAGTGTAAAGTGTAAATAACCGGAGTGTAAACGTGTAAAGCCGTGTAAACTGATGTGTAAAGCAACGCTATGTGTAAAAGTGTAAATTGGTAGTGTAAAGCGTGTAAATAGTTCAGTGTAAAAAGTGTAAATGTGTAAAAACCGTGGTGTAAATCGTGTAAAATCAGCTCGGTGTAAAGTGTAAAGGACGTGTAAAGTGTAAATGTGTAAAGGAGTGTAAACTAAGCGTGTAAAGTACGTGTAAACTGGTGTAAAGGTCCGTGTAAAATGGTGTAAATACCCCCCACGTGTAAAGGTGTAAAGGGGTGTAAAGGTGTAAAGTGTAAAACTGGGGTGTAAAGATGCCGGTGTAAATGTGTAAATTGTGTAAAACGTGTAAAGCCTGTGTAAAGTCCAGTCGTGTAAATGTGTAAAGTGTAAAAAAGGTGTAAACAGTGTAAAGGGTCCCAATATCGGTGTAAAGAGTGTAAA'\n",
    "look = 'GTGTAAAGT'\n",
    "\n",
    "init = 0\n",
    "end = len(look)\n",
    "\n",
    "occ = ''\n",
    "\n",
    "for idx, val in enumerate(s):  \n",
    "    if s[init:end] == look:\n",
    "        occ += str(idx+1) + ' '\n",
    "    \n",
    "    init += 1\n",
    "    end += 1\n",
    "    \n",
    "print(occ)"
   ]
  },
  {
   "cell_type": "code",
   "execution_count": null,
   "metadata": {},
   "outputs": [],
   "source": []
  }
 ],
 "metadata": {
  "kernelspec": {
   "display_name": "Python 3",
   "language": "python",
   "name": "python3"
  },
  "language_info": {
   "codemirror_mode": {
    "name": "ipython",
    "version": 3
   },
   "file_extension": ".py",
   "mimetype": "text/x-python",
   "name": "python",
   "nbconvert_exporter": "python",
   "pygments_lexer": "ipython3",
   "version": "3.7.7"
  }
 },
 "nbformat": 4,
 "nbformat_minor": 4
}
