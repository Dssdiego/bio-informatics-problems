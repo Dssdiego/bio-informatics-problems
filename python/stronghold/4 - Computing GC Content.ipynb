{
 "cells": [
  {
   "cell_type": "markdown",
   "metadata": {},
   "source": [
    "# Problem\n",
    "\n",
    "The GC-content of a DNA string is given by the percentage of symbols in the string that are 'C' or 'G'. For example, the GC-content of \"AGCTATAG\" is 37.5%. Note that the reverse complement of any DNA string has the same GC-content.\n",
    "\n",
    "DNA strings must be labeled when they are consolidated into a database. A commonly used method of string labeling is called FASTA format. In this format, the string is introduced by a line that begins with '>', followed by some labeling information. Subsequent lines contain the string itself; the first line to begin with '>' indicates the label of the next string.\n",
    "\n",
    "In Rosalind's implementation, a string in FASTA format will be labeled by the ID \"Rosalind_xxxx\", where \"xxxx\" denotes a four-digit code between 0000 and 9999.\n",
    "\n",
    "**Given:** At most 10 *DNA strings* in FASTA format (of length at most 1 *kbp* each).\n",
    "\n",
    "**Return:** The ID of the string having the highest GC-content, followed by the GC-content of that string. Rosalind allows for a default error of 0.001 in all decimal answers unless otherwise stated"
   ]
  },
  {
   "cell_type": "code",
   "execution_count": 293,
   "metadata": {},
   "outputs": [
    {
     "name": "stdout",
     "output_type": "stream",
     "text": [
      "Rosalind_4878\n",
      "52.7056277\n"
     ]
    }
   ],
   "source": [
    "dic = {}\n",
    "percents = {}\n",
    "\n",
    "stringSeq = open('4_dataset.fasta', 'r').read().split('>')\n",
    "stringSeq.pop(0)\n",
    "\n",
    "for idx, seq in enumerate(stringSeq):\n",
    "    header = stringSeq[idx].split('\\n')\n",
    "    for i, val in enumerate(header):\n",
    "        if i == 0:\n",
    "            dic[header[0]] = ''\n",
    "        if i != 0:\n",
    "            dic[header[0]] += val\n",
    "\n",
    "for i in dic:\n",
    "    count = dic[i].count('C') + dic[i].count('G')\n",
    "    total = dic[i].count('') - 1\n",
    "    percent = (count / total) * 100\n",
    "    percents[i] = round(percent, 7)\n",
    "    \n",
    "maximum = max(percents, key=percents.get)\n",
    "print(maximum)\n",
    "print(percents[maximum])"
   ]
  }
 ],
 "metadata": {
  "kernelspec": {
   "display_name": "Python 3",
   "language": "python",
   "name": "python3"
  },
  "language_info": {
   "codemirror_mode": {
    "name": "ipython",
    "version": 3
   },
   "file_extension": ".py",
   "mimetype": "text/x-python",
   "name": "python",
   "nbconvert_exporter": "python",
   "pygments_lexer": "ipython3",
   "version": "3.7.7"
  }
 },
 "nbformat": 4,
 "nbformat_minor": 4
}
