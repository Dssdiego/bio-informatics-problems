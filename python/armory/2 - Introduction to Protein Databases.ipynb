{
 "cells": [
  {
   "cell_type": "code",
   "execution_count": 12,
   "metadata": {},
   "outputs": [],
   "source": [
    "from Bio import ExPASy as expas\n",
    "from Bio import SwissProt as swiss"
   ]
  },
  {
   "cell_type": "code",
   "execution_count": 29,
   "metadata": {},
   "outputs": [],
   "source": [
    "handle = expas.get_sprot_raw('Q5SLP9')\n",
    "record = swiss.read(handle)"
   ]
  },
  {
   "cell_type": "code",
   "execution_count": 56,
   "metadata": {},
   "outputs": [
    {
     "data": {
      "text/plain": [
       "[('BioCyc', 'TTHE300852:G1GKC-252-MONOMER', '-'),\n",
       " ('CDD', 'cd04496', 'SSB_OBF', '2'),\n",
       " ('EMBL', 'AF079160', 'AAC28386.2', '-', 'Genomic_DNA'),\n",
       " ('EMBL', 'AJ564626', 'CAD92097.1', '-', 'Genomic_DNA'),\n",
       " ('EMBL', 'AP008226', 'BAD70067.1', '-', 'Genomic_DNA'),\n",
       " ('EnsemblBacteria', 'BAD70067', 'BAD70067', 'BAD70067'),\n",
       " ('EvolutionaryTrace', 'Q5SLP9', '-'),\n",
       " ('GO',\n",
       "  'GO:0003697',\n",
       "  'F:single-stranded DNA binding',\n",
       "  'IEA:UniProtKB-UniRule'),\n",
       " ('GO', 'GO:0006260', 'P:DNA replication', 'IEA:UniProtKB-UniRule'),\n",
       " ('GO', 'GO:0006281', 'P:DNA repair', 'IEA:UniProtKB-UniRule'),\n",
       " ('GO', 'GO:0006310', 'P:DNA recombination', 'IEA:UniProtKB-UniRule'),\n",
       " ('GeneID', '3167973', '-'),\n",
       " ('HAMAP', 'MF_00984', 'SSB', '1'),\n",
       " ('HOGENOM', 'CLU_087573_0_0_0', '-'),\n",
       " ('InterPro', 'IPR000424', 'Primosome_PriB/ssb'),\n",
       " ('InterPro', 'IPR011344', 'ssDNA-bd'),\n",
       " ('InterPro', 'IPR012340', 'NA-bd_OB-fold'),\n",
       " ('KEGG', 'ttj:TTHA0244', '-'),\n",
       " ('KO', 'K03111', '-'),\n",
       " ('OMA', 'ARGMNHV', '-'),\n",
       " ('PANTHER', 'PTHR10302', 'PTHR10302', '2'),\n",
       " ('PATRIC', 'fig|300852.9.peg.244', '-'),\n",
       " ('PDB', '2CWA', 'X-ray', '1.96 A', 'A=1-263'),\n",
       " ('PDBsum', '2CWA', '-'),\n",
       " ('PROSITE', 'PS50935', 'SSB', '2'),\n",
       " ('Pfam', 'PF00436', 'SSB', '2'),\n",
       " ('Proteomes', 'UP000000532', 'Chromosome'),\n",
       " ('RefSeq', 'WP_011227803.1', 'NC_006461.1'),\n",
       " ('RefSeq', 'YP_143510.1', 'NC_006461.1'),\n",
       " ('SMR', 'Q5SLP9', '-'),\n",
       " ('STRING', '300852.55771626', '-'),\n",
       " ('SUPFAM', 'SSF50249', 'SSF50249', '2'),\n",
       " ('TIGRFAMs', 'TIGR00621', 'ssb', '2'),\n",
       " ('eggNOG', 'COG0629', 'LUCA'),\n",
       " ('eggNOG', 'ENOG4105Z8H', 'Bacteria')]"
      ]
     },
     "execution_count": 56,
     "metadata": {},
     "output_type": "execute_result"
    }
   ],
   "source": [
    "record.cross_references"
   ]
  },
  {
   "cell_type": "code",
   "execution_count": null,
   "metadata": {},
   "outputs": [],
   "source": []
  }
 ],
 "metadata": {
  "kernelspec": {
   "display_name": "Python 3",
   "language": "python",
   "name": "python3"
  },
  "language_info": {
   "codemirror_mode": {
    "name": "ipython",
    "version": 3
   },
   "file_extension": ".py",
   "mimetype": "text/x-python",
   "name": "python",
   "nbconvert_exporter": "python",
   "pygments_lexer": "ipython3",
   "version": "3.7.7"
  }
 },
 "nbformat": 4,
 "nbformat_minor": 4
}
