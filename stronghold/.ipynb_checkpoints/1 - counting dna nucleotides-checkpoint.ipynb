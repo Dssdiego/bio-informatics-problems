{
 "cells": [
  {
   "cell_type": "code",
   "execution_count": 22,
   "metadata": {},
   "outputs": [],
   "source": [
    "dnaString = \"GCGTGGGTTTAGGACGGCTCCGCTTTGGGCAATTACGAATAGGACCCACCAGACCGGGGCTTGAGACTTCAAATTGACCCCGCATTGGCACTCGCTCCGTTGACTATACGGATGACTCTGGTGGGATCCGTTTGCGATCACAAACCGAGGATGTCGCAAGAAGGGACTTTATGGGAGCTACGACGCCCTGTTATACCCCTCCGATAGAGAGGGTTGGCAAAGATTCCTGGGAGGGAAGGCAGTCTATGTGGTGAAAAACGGCTAATCCAAATTACTTCGCCTTTGGTTATCATAGTTTTCAACCATTAGTGTGCCGCCCCAACAACGGGACTACGTCCCGCGCAAGTCCAGGGCACTGAAAGGTATTTACCACTATTCGAACTTACGCACAAAGGGACGTCTAATATGTAGGGACGGTCCATCGACATTCGCAGGCTGGAATGAACGCAAGCGAGCGAATTAACGCCAAAGTACTCGCCATCCACTCAAGCCCTCCGTCGAACAGGGTGTTTGGGCATCTCCCACGGAAGGATCGAGTAAATGGGTTTACGGAGCATGAAATATTTAGCGCCCTATCAATCTTCCCGACACCTCCCTCTCAAGTTGTGTGCCTTTTAAATGTATCACTACCCCTATGACGCATTGTTAGGCTTAGTAGTTGATAATCCCTTATTTCCTATTGCCCGGACACGCGATTAAGCGTTTCTTGGATGCCGTACCCCCCCGGTGCTTGACCGTGAATCTAAACGATGCATTGGTGTGCTCCATTTGAATCGGTCATTTGCGTTCGTAGCCGAAATAG\""
   ]
  },
  {
   "cell_type": "code",
   "execution_count": 23,
   "metadata": {},
   "outputs": [],
   "source": [
    "aCount = dnaString.count(\"A\")\n",
    "cCount = dnaString.count(\"C\")\n",
    "gCount = dnaString.count(\"G\")\n",
    "tCount = dnaString.count(\"T\")"
   ]
  },
  {
   "cell_type": "code",
   "execution_count": 24,
   "metadata": {},
   "outputs": [
    {
     "name": "stdout",
     "output_type": "stream",
     "text": [
      "196 205 200 201\n"
     ]
    }
   ],
   "source": [
    "print str(aCount) + \" \" + str(cCount) + \" \" + str(gCount) + \" \" + str(tCount)"
   ]
  }
 ],
 "metadata": {
  "kernelspec": {
   "display_name": "Python 2",
   "language": "python",
   "name": "python2"
  },
  "language_info": {
   "codemirror_mode": {
    "name": "ipython",
    "version": 2
   },
   "file_extension": ".py",
   "mimetype": "text/x-python",
   "name": "python",
   "nbconvert_exporter": "python",
   "pygments_lexer": "ipython2",
   "version": "2.7.15"
  }
 },
 "nbformat": 4,
 "nbformat_minor": 2
}
