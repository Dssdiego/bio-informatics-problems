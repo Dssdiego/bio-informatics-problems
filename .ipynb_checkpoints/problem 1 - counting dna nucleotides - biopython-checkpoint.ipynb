{
 "cells": [
  {
   "cell_type": "code",
   "execution_count": 1,
   "metadata": {},
   "outputs": [],
   "source": [
    "from Bio.Seq import Seq"
   ]
  },
  {
   "cell_type": "code",
   "execution_count": 3,
   "metadata": {},
   "outputs": [],
   "source": [
    "dnaSeq = Seq(\"AAGTGCGCGATCGTCGATTGGAACACTTAATGCATGGGTACACTCGCCGGGATAGTACAAACGAATCACCTCCGTACTACTCGGTTGAAATTTGTCCTCATGCGCTAATTGAGATCGCAAGGTCCGCCCATCTATTGCATCCTGTGAAAAAACCGGCTCACCTACCTCTCGGATGTCACTATGGAGTAACTCGGTATGTATATGGGAACTTGAGATTACGGGATTACCTTAGGATTTTAGAGGATTACTGACACTCACAGCGAATAGTAAGGTACCTGCGCGAATCGATAGCGCAAAGTACCTCTGTAACCTTTGGACTCATCTATGTAAACGTAGCCTAGTTGCATATGGATTCTACGCCCACGTCGATTTTATAAAATCTTATGTGATCTGAGTTGTATTCCAGACTATGCACTTATCGGAAAACAAGCATGAGCCGGGGCAGTCATGACATGGGGTAGGTCAATAGAAGCACTGCCTGAAATCGGCTAATATCGTCGAAATCGGCTTCCTTTATAGCTGGTGCTATCATACAGACGTATCTGCACTCGAAGAAAGGCCTCATGGCTAATCGGTCTAAGACGCTTTTGTTGCCCGTAAGCTATCTGGATTTCACTGCGCAGTTTATGTTCTTGCTGTGCGTGAGTCTCTAGCAGTATCAGCACGCCGCTTACATCCTTTTGGCATCGCTATCACTACGGCGACAAAAAGCGCGGAAGCCAACACCCGGGCATAGCTTAGACTTGGATGCGGCGCCGATGGATCAGCCTTCGCTGGGATTCCGGAATATGGATAAGTGGTGGACATATCTTAAGGCGGGGTTTCGCATATGGTTACGATTGCTGCCTCCTTAAAGAAAGTCCTCAACGAGACTTAGGAGGGTTGAGGCTAGACTTGTCATGACCAAAAGCCAAGTTATTCGGGCTGTGGAAA\")"
   ]
  },
  {
   "cell_type": "code",
   "execution_count": 5,
   "metadata": {},
   "outputs": [],
   "source": [
    "aCount = dnaSeq.count(\"A\")\n",
    "cCount = dnaSeq.count(\"C\")\n",
    "gCount = dnaSeq.count(\"G\")\n",
    "tCount = dnaSeq.count(\"T\")"
   ]
  },
  {
   "cell_type": "code",
   "execution_count": 6,
   "metadata": {},
   "outputs": [
    {
     "name": "stdout",
     "output_type": "stream",
     "text": [
      "196 205 200 201\n"
     ]
    }
   ],
   "source": [
    "print str(aCount) + \" \" + str(cCount) + \" \" + str(gCount) + \" \" + str(tCount)"
   ]
  },
  {
   "cell_type": "code",
   "execution_count": null,
   "metadata": {},
   "outputs": [],
   "source": []
  }
 ],
 "metadata": {
  "kernelspec": {
   "display_name": "Python 2",
   "language": "python",
   "name": "python2"
  },
  "language_info": {
   "codemirror_mode": {
    "name": "ipython",
    "version": 2
   },
   "file_extension": ".py",
   "mimetype": "text/x-python",
   "name": "python",
   "nbconvert_exporter": "python",
   "pygments_lexer": "ipython2",
   "version": "2.7.15"
  }
 },
 "nbformat": 4,
 "nbformat_minor": 2
}
